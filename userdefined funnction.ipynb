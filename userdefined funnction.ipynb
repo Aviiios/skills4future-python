{
 "cells": [
  {
   "cell_type": "code",
   "execution_count": 1,
   "metadata": {},
   "outputs": [],
   "source": [
    "def calculate_carbon_footprint(energy_consumption,emmision_factor):\n",
    "    return energy_consumption*emission_factor"
   ]
  },
  {
   "cell_type": "code",
   "execution_count": 3,
   "metadata": {},
   "outputs": [
    {
     "name": "stdout",
     "output_type": "stream",
     "text": [
      "carbon footprint:475.0kg co2\n"
     ]
    }
   ],
   "source": [
    "energy_consumption=1000\n",
    "emission_factor=0.475\n",
    "carbon_footprint=calculate_carbon_footprint(energy_consumption,emission_factor)\n",
    "print(f\"carbon footprint:{carbon_footprint}kg co2\")\n"
   ]
  },
  {
   "cell_type": "code",
   "execution_count": 1,
   "metadata": {},
   "outputs": [
    {
     "name": "stdout",
     "output_type": "stream",
     "text": [
      "Requirement already satisfied: pandas in c:\\programdata\\anaconda3\\lib\\site-packages (0.24.2)\n",
      "Requirement already satisfied: numpy in c:\\programdata\\anaconda3\\lib\\site-packages (1.16.4)\n",
      "Requirement already satisfied: python-dateutil>=2.5.0 in c:\\programdata\\anaconda3\\lib\\site-packages (from pandas) (2.8.0)\n",
      "Requirement already satisfied: pytz>=2011k in c:\\programdata\\anaconda3\\lib\\site-packages (from pandas) (2019.1)\n",
      "Requirement already satisfied: six>=1.5 in c:\\programdata\\anaconda3\\lib\\site-packages (from python-dateutil>=2.5.0->pandas) (1.12.0)\n",
      "Note: you may need to restart the kernel to use updated packages.\n"
     ]
    }
   ],
   "source": [
    "pip install pandas numpy\n"
   ]
  },
  {
   "cell_type": "code",
   "execution_count": 6,
   "metadata": {},
   "outputs": [],
   "source": [
    "import pandas as pd"
   ]
  },
  {
   "cell_type": "code",
   "execution_count": 7,
   "metadata": {},
   "outputs": [],
   "source": [
    "renewable_sources=[\"solar\",\"wind\",\"hydropower\",\"geothermal\",\"biomass\"]\n",
    "data={\n",
    "    \"project\":[\"solar farm A\",\"wind turbine X\",\"hydropower Y\",\"solar roof Z\",\"geothermal plant p\"],\n",
    "    \"technology\":[\"solar\",\"wind\",\"hydropower\",\"solar\",\"geothermal\"],\n",
    "    \"capacity (mw)\":[150,300,200,50,100],\n",
    "    \"cost (million $)\":[200,400,350,100,250],\n",
    "    \"location\":[\"california\",\"texas\",\"washington\",\"nevada\",\"idaho\"],\n",
    "    \"completion year\":[2023,2024,202,2025,2023]\n",
    "}"
   ]
  },
  {
   "cell_type": "code",
   "execution_count": 8,
   "metadata": {},
   "outputs": [],
   "source": [
    "renewable_series=pd.Series(renewable_sources)"
   ]
  },
  {
   "cell_type": "code",
   "execution_count": 9,
   "metadata": {},
   "outputs": [
    {
     "name": "stdout",
     "output_type": "stream",
     "text": [
      "Renewable Energy Sources:\n",
      "0         solar\n",
      "1          wind\n",
      "2    hydropower\n",
      "3    geothermal\n",
      "4       biomass\n",
      "dtype: object\n"
     ]
    }
   ],
   "source": [
    "print(\"Renewable Energy Sources:\")\n",
    "print(renewable_series)"
   ]
  },
  {
   "cell_type": "code",
   "execution_count": 10,
   "metadata": {},
   "outputs": [],
   "source": [
    "projects_df=pd.DataFrame(data)"
   ]
  },
  {
   "cell_type": "code",
   "execution_count": 11,
   "metadata": {},
   "outputs": [
    {
     "name": "stdout",
     "output_type": "stream",
     "text": [
      "\n",
      "Green Technology Projects DataFrame:\n",
      "              project  technology  capacity (mw)  cost (million $)  \\\n",
      "0        solar farm A       solar            150               200   \n",
      "1      wind turbine X        wind            300               400   \n",
      "2        hydropower Y  hydropower            200               350   \n",
      "3        solar roof Z       solar             50               100   \n",
      "4  geothermal plant p  geothermal            100               250   \n",
      "\n",
      "     location  completion year  \n",
      "0  california             2023  \n",
      "1       texas             2024  \n",
      "2  washington              202  \n",
      "3      nevada             2025  \n",
      "4       idaho             2023  \n"
     ]
    }
   ],
   "source": [
    "print(\"\\nGreen Technology Projects DataFrame:\")\n",
    "print(projects_df)"
   ]
  },
  {
   "cell_type": "code",
   "execution_count": 12,
   "metadata": {},
   "outputs": [
    {
     "name": "stdout",
     "output_type": "stream",
     "text": [
      "\n",
      "list of projects:\n",
      "0          solar farm A\n",
      "1        wind turbine X\n",
      "2          hydropower Y\n",
      "3          solar roof Z\n",
      "4    geothermal plant p\n",
      "Name: project, dtype: object\n"
     ]
    }
   ],
   "source": [
    "print(\"\\nlist of projects:\")\n",
    "print(projects_df[\"project\"])"
   ]
  },
  {
   "cell_type": "code",
   "execution_count": 13,
   "metadata": {},
   "outputs": [
    {
     "name": "stdout",
     "output_type": "stream",
     "text": [
      "\n",
      "list of capacity:\n",
      "0    150\n",
      "1    300\n",
      "2    200\n",
      "3     50\n",
      "4    100\n",
      "Name: capacity (mw), dtype: int64\n"
     ]
    }
   ],
   "source": [
    "print(\"\\nlist of capacity:\")\n",
    "print(projects_df[\"capacity (mw)\"])"
   ]
  },
  {
   "cell_type": "code",
   "execution_count": 14,
   "metadata": {},
   "outputs": [
    {
     "name": "stdout",
     "output_type": "stream",
     "text": [
      "\n",
      "Projects with Capacity Greater than 100 mw:\n",
      "          project  technology  capacity (mw)  cost (million $)    location  \\\n",
      "0    solar farm A       solar            150               200  california   \n",
      "1  wind turbine X        wind            300               400       texas   \n",
      "2    hydropower Y  hydropower            200               350  washington   \n",
      "\n",
      "   completion year  \n",
      "0             2023  \n",
      "1             2024  \n",
      "2              202  \n"
     ]
    }
   ],
   "source": [
    "high_capacity_projects = projects_df[projects_df [\"capacity (mw)\"] > 100]\n",
    "\n",
    "print(\"\\nProjects with Capacity Greater than 100 mw:\")\n",
    "print(high_capacity_projects)"
   ]
  },
  {
   "cell_type": "code",
   "execution_count": 16,
   "metadata": {},
   "outputs": [
    {
     "name": "stdout",
     "output_type": "stream",
     "text": [
      "\n",
      " DataFrame with cost Per MW: \n",
      "              project  technology  capacity (mw)  cost (million $)  \\\n",
      "0        solar farm A       solar            150               200   \n",
      "1      wind turbine X        wind            300               400   \n",
      "2        hydropower Y  hydropower            200               350   \n",
      "3        solar roof Z       solar             50               100   \n",
      "4  geothermal plant p  geothermal            100               250   \n",
      "\n",
      "     location  completion year  cost per MW  \n",
      "0  california             2023     1.333333  \n",
      "1       texas             2024     1.333333  \n",
      "2  washington              202     1.750000  \n",
      "3      nevada             2025     2.000000  \n",
      "4       idaho             2023     2.500000  \n"
     ]
    }
   ],
   "source": [
    "projects_df[\"cost per MW\"] = projects_df[\"cost (million $)\"] / projects_df[\"capacity (mw)\"]\n",
    "print(\"\\n DataFrame with cost Per MW: \")\n",
    "print(projects_df)"
   ]
  },
  {
   "cell_type": "code",
   "execution_count": 18,
   "metadata": {},
   "outputs": [
    {
     "name": "stdout",
     "output_type": "stream",
     "text": [
      "\n",
      "Total capacity of all projects: 800 MW\n",
      "Total Cost of all projects: $1300 million\n"
     ]
    }
   ],
   "source": [
    "total_capacity = projects_df [\"capacity (mw)\"].sum()\n",
    "total_cost = projects_df[\"cost (million $)\"].sum()\n",
    "print(f\"\\nTotal capacity of all projects: {total_capacity} MW\")\n",
    "print(f\"Total Cost of all projects: ${total_cost} million\")"
   ]
  },
  {
   "cell_type": "code",
   "execution_count": 19,
   "metadata": {},
   "outputs": [
    {
     "name": "stdout",
     "output_type": "stream",
     "text": [
      "\n",
      "total capacity by technology:\n",
      "technology\n",
      "geothermal    100\n",
      "hydropower    200\n",
      "solar         200\n",
      "wind          300\n",
      "Name: capacity (mw), dtype: int64\n"
     ]
    }
   ],
   "source": [
    "grouped_data = projects_df.groupby(\"technology\") [\"capacity (mw)\"].sum()\n",
    "\n",
    "print(\"\\ntotal capacity by technology:\")\n",
    "print(grouped_data)"
   ]
  },
  {
   "cell_type": "code",
   "execution_count": null,
   "metadata": {},
   "outputs": [],
   "source": []
  }
 ],
 "metadata": {
  "kernelspec": {
   "display_name": "Python 3",
   "language": "python",
   "name": "python3"
  },
  "language_info": {
   "codemirror_mode": {
    "name": "ipython",
    "version": 3
   },
   "file_extension": ".py",
   "mimetype": "text/x-python",
   "name": "python",
   "nbconvert_exporter": "python",
   "pygments_lexer": "ipython3",
   "version": "3.7.3"
  }
 },
 "nbformat": 4,
 "nbformat_minor": 2
}
