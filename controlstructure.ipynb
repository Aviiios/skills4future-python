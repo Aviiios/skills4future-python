{
 "cells": [
  {
   "cell_type": "code",
   "execution_count": 4,
   "metadata": {},
   "outputs": [],
   "source": [
    "\n",
    "climate_data=[\n",
    "      {\"city\":\"city A\",\"temperature\":25,\"carbon_footprint\":500},\n",
    "      {\"city\":\"city b\",\"temperature\":30,\"carbon_footprint\":350},\n",
    "      {\"city\":\"city c\",\"temperature\":22,\"carbon_footprint\":600},\n",
    "      {\"city\":\"city d\",\"temperature\":15,\"carbon_footprint\":200},\n",
    "      {\"city\":\"city e\",\"temperature\":28,\"carbon_footprint\":450},\n",
    "]\n",
    "high_temp_threshold=26\n"
   ]
  },
  {
   "cell_type": "code",
   "execution_count": 2,
   "metadata": {},
   "outputs": [
    {
     "ename": "SyntaxError",
     "evalue": "invalid syntax (<ipython-input-2-fc09370d6c89>, line 8)",
     "output_type": "error",
     "traceback": [
      "\u001b[1;36m  File \u001b[1;32m\"<ipython-input-2-fc09370d6c89>\"\u001b[1;36m, line \u001b[1;32m8\u001b[0m\n\u001b[1;33m    high_temp_threshold=\u001b[0m\n\u001b[1;37m                        ^\u001b[0m\n\u001b[1;31mSyntaxError\u001b[0m\u001b[1;31m:\u001b[0m invalid syntax\n"
     ]
    }
   ],
   "source": [
    "climate_data={\n",
    "      {\"city\":\"city A\",\"temperature\":25,\"carbon_footprint\":500},\n",
    "      {\"city\":\"city B\",\"temperature\":30,\"carbon_footprint\":350},\n",
    "      {\"city\":\"city C\",\"temperature\":22,\"carbon_footprint\":600},\n",
    "      {\"city\":\"city D\",\"temperature\":15,\"carbon_footprint\":200},\n",
    "      {\"city\":\"city E\",\"temperature\":28,\"carbon_footprint\":450},\n",
    "}\n",
    "high_temp_threshold="
   ]
  },
  {
   "cell_type": "code",
   "execution_count": 3,
   "metadata": {},
   "outputs": [
    {
     "ename": "TypeError",
     "evalue": "unhashable type: 'dict'",
     "output_type": "error",
     "traceback": [
      "\u001b[1;31m---------------------------------------------------------------------------\u001b[0m",
      "\u001b[1;31mTypeError\u001b[0m                                 Traceback (most recent call last)",
      "\u001b[1;32m<ipython-input-3-d5b294ab35a6>\u001b[0m in \u001b[0;36m<module>\u001b[1;34m\u001b[0m\n\u001b[0;32m      4\u001b[0m       \u001b[1;33m{\u001b[0m\u001b[1;34m\"city\"\u001b[0m\u001b[1;33m:\u001b[0m\u001b[1;34m\"city C\"\u001b[0m\u001b[1;33m,\u001b[0m\u001b[1;34m\"temperature\"\u001b[0m\u001b[1;33m:\u001b[0m\u001b[1;36m22\u001b[0m\u001b[1;33m,\u001b[0m\u001b[1;34m\"carbon_footprint\"\u001b[0m\u001b[1;33m:\u001b[0m\u001b[1;36m600\u001b[0m\u001b[1;33m}\u001b[0m\u001b[1;33m,\u001b[0m\u001b[1;33m\u001b[0m\u001b[1;33m\u001b[0m\u001b[0m\n\u001b[0;32m      5\u001b[0m       \u001b[1;33m{\u001b[0m\u001b[1;34m\"city\"\u001b[0m\u001b[1;33m:\u001b[0m\u001b[1;34m\"city D\"\u001b[0m\u001b[1;33m,\u001b[0m\u001b[1;34m\"temperature\"\u001b[0m\u001b[1;33m:\u001b[0m\u001b[1;36m15\u001b[0m\u001b[1;33m,\u001b[0m\u001b[1;34m\"carbon_footprint\"\u001b[0m\u001b[1;33m:\u001b[0m\u001b[1;36m200\u001b[0m\u001b[1;33m}\u001b[0m\u001b[1;33m,\u001b[0m\u001b[1;33m\u001b[0m\u001b[1;33m\u001b[0m\u001b[0m\n\u001b[1;32m----> 6\u001b[1;33m       \u001b[1;33m{\u001b[0m\u001b[1;34m\"city\"\u001b[0m\u001b[1;33m:\u001b[0m\u001b[1;34m\"city E\"\u001b[0m\u001b[1;33m,\u001b[0m\u001b[1;34m\"temperature\"\u001b[0m\u001b[1;33m:\u001b[0m\u001b[1;36m28\u001b[0m\u001b[1;33m,\u001b[0m\u001b[1;34m\"carbon_footprint\"\u001b[0m\u001b[1;33m:\u001b[0m\u001b[1;36m450\u001b[0m\u001b[1;33m}\u001b[0m\u001b[1;33m,\u001b[0m\u001b[1;33m\u001b[0m\u001b[1;33m\u001b[0m\u001b[0m\n\u001b[0m\u001b[0;32m      7\u001b[0m }\n",
      "\u001b[1;31mTypeError\u001b[0m: unhashable type: 'dict'"
     ]
    }
   ],
   "source": [
    "climate_data={\n",
    "      {\"city\":\"city A\",\"temperature\":25,\"carbon_footprint\":500},\n",
    "      {\"city\":\"city B\",\"temperature\":30,\"carbon_footprint\":350},\n",
    "      {\"city\":\"city C\",\"temperature\":22,\"carbon_footprint\":600},\n",
    "      {\"city\":\"city D\",\"temperature\":15,\"carbon_footprint\":200},\n",
    "      {\"city\":\"city E\",\"temperature\":28,\"carbon_footprint\":450},\n",
    "}"
   ]
  },
  {
   "cell_type": "code",
   "execution_count": 5,
   "metadata": {},
   "outputs": [],
   "source": [
    "climate_data=[\n",
    "      {\"city\":\"city A\",\"temperature\":25,\"carbon_footprint\":500},\n",
    "      {\"city\":\"city b\",\"temperature\":30,\"carbon_footprint\":350},\n",
    "      {\"city\":\"city c\",\"temperature\":22,\"carbon_footprint\":600},\n",
    "      {\"city\":\"city d\",\"temperature\":15,\"carbon_footprint\":200},\n",
    "      {\"city\":\"city e\",\"temperature\":28,\"carbon_footprint\":450},\n",
    "]"
   ]
  },
  {
   "cell_type": "code",
   "execution_count": 6,
   "metadata": {},
   "outputs": [],
   "source": [
    "high_temp_threshold=26"
   ]
  },
  {
   "cell_type": "code",
   "execution_count": 7,
   "metadata": {},
   "outputs": [
    {
     "ename": "SyntaxError",
     "evalue": "invalid syntax (<ipython-input-7-3a4a29018278>, line 1)",
     "output_type": "error",
     "traceback": [
      "\u001b[1;36m  File \u001b[1;32m\"<ipython-input-7-3a4a29018278>\"\u001b[1;36m, line \u001b[1;32m1\u001b[0m\n\u001b[1;33m    high_temp_cities=[city for city in climate_data if city{\"temperature\"}>high_temp_threshold]\u001b[0m\n\u001b[1;37m                                                           ^\u001b[0m\n\u001b[1;31mSyntaxError\u001b[0m\u001b[1;31m:\u001b[0m invalid syntax\n"
     ]
    }
   ],
   "source": [
    "high_temp_cities=[city for city in climate_data if city{\"temperature\"}>high_temp_threshold]"
   ]
  },
  {
   "cell_type": "code",
   "execution_count": 8,
   "metadata": {},
   "outputs": [
    {
     "ename": "SyntaxError",
     "evalue": "invalid syntax (<ipython-input-8-f831013342cb>, line 1)",
     "output_type": "error",
     "traceback": [
      "\u001b[1;36m  File \u001b[1;32m\"<ipython-input-8-f831013342cb>\"\u001b[1;36m, line \u001b[1;32m1\u001b[0m\n\u001b[1;33m    high_temp_cities=[city for city in climate_data if city\"[temperature\"]>high_temp_threshold]\u001b[0m\n\u001b[1;37m                                                                        ^\u001b[0m\n\u001b[1;31mSyntaxError\u001b[0m\u001b[1;31m:\u001b[0m invalid syntax\n"
     ]
    }
   ],
   "source": [
    "high_temp_cities=[city for city in climate_data if city\"[temperature\"]>high_temp_threshold]"
   ]
  },
  {
   "cell_type": "code",
   "execution_count": 9,
   "metadata": {},
   "outputs": [],
   "source": [
    "high_temp_cities=[city for city in climate_data if city[\"temperature\"]>high_temp_threshold]"
   ]
  },
  {
   "cell_type": "code",
   "execution_count": 10,
   "metadata": {},
   "outputs": [
    {
     "ename": "SyntaxError",
     "evalue": "EOL while scanning string literal (<ipython-input-10-b790e5fed810>, line 3)",
     "output_type": "error",
     "traceback": [
      "\u001b[1;36m  File \u001b[1;32m\"<ipython-input-10-b790e5fed810>\"\u001b[1;36m, line \u001b[1;32m3\u001b[0m\n\u001b[1;33m    print(f\"{city['city']}-{city['temperature']}°C}\u001b[0m\n\u001b[1;37m                                                   ^\u001b[0m\n\u001b[1;31mSyntaxError\u001b[0m\u001b[1;31m:\u001b[0m EOL while scanning string literal\n"
     ]
    }
   ],
   "source": [
    "print(\"cities with high temprature(>26°C):\")\n",
    "for city in high_temp_cities:\n",
    "    print(f\"{city['city']} - {city['temperature']}°C}"
   ]
  },
  {
   "cell_type": "code",
   "execution_count": 11,
   "metadata": {},
   "outputs": [
    {
     "ename": "SyntaxError",
     "evalue": "invalid syntax (<ipython-input-11-cd0e54a04c4d>, line 3)",
     "output_type": "error",
     "traceback": [
      "\u001b[1;36m  File \u001b[1;32m\"<ipython-input-11-cd0e54a04c4d>\"\u001b[1;36m, line \u001b[1;32m3\u001b[0m\n\u001b[1;33m    print(f\"{city['city']} - {city['temperature']}°C\"}\u001b[0m\n\u001b[1;37m                                                     ^\u001b[0m\n\u001b[1;31mSyntaxError\u001b[0m\u001b[1;31m:\u001b[0m invalid syntax\n"
     ]
    }
   ],
   "source": [
    "print(\"cities with high tempratures (>26°C):\")\n",
    "for city in high_temp_cities:\n",
    "    print(f\"{city['city']} - {city['temperature']}°C\"}"
   ]
  },
  {
   "cell_type": "code",
   "execution_count": 12,
   "metadata": {},
   "outputs": [
    {
     "name": "stdout",
     "output_type": "stream",
     "text": [
      "cities with high tempratures (>26°C):\n",
      "city b - 30°C\n",
      "city e - 28°C\n"
     ]
    }
   ],
   "source": [
    "print(\"cities with high tempratures (>26°C):\")\n",
    "for city in high_temp_cities:\n",
    "    print(f\"{city['city']} - {city['temperature']}°C\")"
   ]
  },
  {
   "cell_type": "code",
   "execution_count": 13,
   "metadata": {},
   "outputs": [
    {
     "name": "stdout",
     "output_type": "stream",
     "text": [
      "\n",
      "Average carbon footprint:100.000000kg co2\n",
      "\n",
      "Average carbon footprint:170.000000kg co2\n",
      "\n",
      "Average carbon footprint:290.000000kg co2\n",
      "\n",
      "Average carbon footprint:330.000000kg co2\n",
      "\n",
      "Average carbon footprint:420.000000kg co2\n"
     ]
    }
   ],
   "source": [
    "total_carbon=0\n",
    "for city in climate_data:\n",
    "    total_carbon+=city[\"carbon_footprint\"]\n",
    "    average_carbon_footprint=total_carbon/len(climate_data)\n",
    "    print(f\"\\nAverage carbon footprint:{average_carbon_footprint:2f}kg co2\")"
   ]
  },
  {
   "cell_type": "code",
   "execution_count": 14,
   "metadata": {},
   "outputs": [
    {
     "ename": "NameError",
     "evalue": "name 'climate' is not defined",
     "output_type": "error",
     "traceback": [
      "\u001b[1;31m---------------------------------------------------------------------------\u001b[0m",
      "\u001b[1;31mNameError\u001b[0m                                 Traceback (most recent call last)",
      "\u001b[1;32m<ipython-input-14-48ec98e1b008>\u001b[0m in \u001b[0;36m<module>\u001b[1;34m\u001b[0m\n\u001b[0;32m      1\u001b[0m \u001b[0msustainability_threshold\u001b[0m\u001b[1;33m=\u001b[0m\u001b[1;36m400\u001b[0m\u001b[1;33m\u001b[0m\u001b[1;33m\u001b[0m\u001b[0m\n\u001b[1;32m----> 2\u001b[1;33m \u001b[0msustainability_cities\u001b[0m\u001b[1;33m=\u001b[0m\u001b[0mlist\u001b[0m\u001b[1;33m(\u001b[0m\u001b[0mfilter\u001b[0m\u001b[1;33m(\u001b[0m\u001b[1;32mlambda\u001b[0m \u001b[0mcity\u001b[0m\u001b[1;33m:\u001b[0m\u001b[0mcity\u001b[0m\u001b[1;33m[\u001b[0m\u001b[1;34m\"carbon_footprint\"\u001b[0m\u001b[1;33m]\u001b[0m\u001b[1;33m<\u001b[0m\u001b[0msustainability_threshold\u001b[0m\u001b[1;33m,\u001b[0m\u001b[0mclimate\u001b[0m\u001b[1;33m-\u001b[0m\u001b[0mdata\u001b[0m\u001b[1;33m)\u001b[0m\u001b[1;33m)\u001b[0m\u001b[1;33m\u001b[0m\u001b[1;33m\u001b[0m\u001b[0m\n\u001b[0m\u001b[0;32m      3\u001b[0m \u001b[0mprint\u001b[0m\u001b[1;33m(\u001b[0m\u001b[1;34m\"\\nsustainable cities(carbonfootprint<400kg co2):\"\u001b[0m\u001b[1;33m)\u001b[0m\u001b[1;33m\u001b[0m\u001b[1;33m\u001b[0m\u001b[0m\n\u001b[0;32m      4\u001b[0m \u001b[1;32mfor\u001b[0m \u001b[0mcity\u001b[0m \u001b[1;32min\u001b[0m \u001b[0msustainable_cities\u001b[0m\u001b[1;33m:\u001b[0m\u001b[1;33m\u001b[0m\u001b[1;33m\u001b[0m\u001b[0m\n\u001b[0;32m      5\u001b[0m     \u001b[0mprint\u001b[0m\u001b[1;33m(\u001b[0m\u001b[1;34mf\"(city['city'])-(city['carbon_footprint'])kgco2\"\u001b[0m\u001b[1;33m)\u001b[0m\u001b[1;33m\u001b[0m\u001b[1;33m\u001b[0m\u001b[0m\n",
      "\u001b[1;31mNameError\u001b[0m: name 'climate' is not defined"
     ]
    }
   ],
   "source": [
    "sustainability_threshold=400\n",
    "sustainability_cities=list(filter(lambda city:city[\"carbon_footprint\"]<sustainability_threshold,climate-data))\n",
    "print(\"\\nsustainable cities(carbonfootprint<400kg co2):\")\n",
    "for city in sustainable_cities:\n",
    "    print(f\"(city['city'])-(city['carbon_footprint'])kgco2\")"
   ]
  },
  {
   "cell_type": "code",
   "execution_count": 15,
   "metadata": {},
   "outputs": [
    {
     "name": "stdout",
     "output_type": "stream",
     "text": [
      "\n",
      "sustainable cities(carbonfootprint<400kg co2):\n"
     ]
    },
    {
     "ename": "NameError",
     "evalue": "name 'sustainable_cities' is not defined",
     "output_type": "error",
     "traceback": [
      "\u001b[1;31m---------------------------------------------------------------------------\u001b[0m",
      "\u001b[1;31mNameError\u001b[0m                                 Traceback (most recent call last)",
      "\u001b[1;32m<ipython-input-15-43245a5ecbe9>\u001b[0m in \u001b[0;36m<module>\u001b[1;34m\u001b[0m\n\u001b[0;32m      2\u001b[0m \u001b[0msustainability_cities\u001b[0m\u001b[1;33m=\u001b[0m\u001b[0mlist\u001b[0m\u001b[1;33m(\u001b[0m\u001b[0mfilter\u001b[0m\u001b[1;33m(\u001b[0m\u001b[1;32mlambda\u001b[0m \u001b[0mcity\u001b[0m\u001b[1;33m:\u001b[0m\u001b[0mcity\u001b[0m\u001b[1;33m[\u001b[0m\u001b[1;34m\"carbon_footprint\"\u001b[0m\u001b[1;33m]\u001b[0m\u001b[1;33m<\u001b[0m\u001b[0msustainability_threshold\u001b[0m\u001b[1;33m,\u001b[0m\u001b[0mclimate_data\u001b[0m\u001b[1;33m)\u001b[0m\u001b[1;33m)\u001b[0m\u001b[1;33m\u001b[0m\u001b[1;33m\u001b[0m\u001b[0m\n\u001b[0;32m      3\u001b[0m \u001b[0mprint\u001b[0m\u001b[1;33m(\u001b[0m\u001b[1;34m\"\\nsustainable cities(carbonfootprint<400kg co2):\"\u001b[0m\u001b[1;33m)\u001b[0m\u001b[1;33m\u001b[0m\u001b[1;33m\u001b[0m\u001b[0m\n\u001b[1;32m----> 4\u001b[1;33m \u001b[1;32mfor\u001b[0m \u001b[0mcity\u001b[0m \u001b[1;32min\u001b[0m \u001b[0msustainable_cities\u001b[0m\u001b[1;33m:\u001b[0m\u001b[1;33m\u001b[0m\u001b[1;33m\u001b[0m\u001b[0m\n\u001b[0m\u001b[0;32m      5\u001b[0m     \u001b[0mprint\u001b[0m\u001b[1;33m(\u001b[0m\u001b[1;34mf\"(city['city'])-(city['carbon_footprint'])kgco2\"\u001b[0m\u001b[1;33m)\u001b[0m\u001b[1;33m\u001b[0m\u001b[1;33m\u001b[0m\u001b[0m\n",
      "\u001b[1;31mNameError\u001b[0m: name 'sustainable_cities' is not defined"
     ]
    }
   ],
   "source": [
    "sustainability_threshold=400\n",
    "sustainability_cities=list(filter(lambda city:city[\"carbon_footprint\"]<sustainability_threshold,climate_data))\n",
    "print(\"\\nsustainable cities(carbonfootprint<400kg co2):\")\n",
    "for city in sustainable_cities:\n",
    "    print(f\"(city['city'])-(city['carbon_footprint'])kgco2\")"
   ]
  },
  {
   "cell_type": "code",
   "execution_count": 17,
   "metadata": {},
   "outputs": [
    {
     "name": "stdout",
     "output_type": "stream",
     "text": [
      "\n",
      "sustainable cities(carbonfootprint<400kg co2):\n",
      "city b-(city['carbon_footprint'])kgco2\n",
      "city d-(city['carbon_footprint'])kgco2\n"
     ]
    }
   ],
   "source": [
    "sustainability_threshold=400\n",
    "sustainable_cities=list(filter(lambda city:city[\"carbon_footprint\"]<sustainability_threshold,climate_data))\n",
    "print(\"\\nsustainable cities(carbonfootprint<400kg co2):\")\n",
    "for city in sustainable_cities:\n",
    "    print(f\"{city['city']}-(city['carbon_footprint'])kgco2\")"
   ]
  },
  {
   "cell_type": "code",
   "execution_count": 18,
   "metadata": {},
   "outputs": [
    {
     "name": "stdout",
     "output_type": "stream",
     "text": [
      "\n",
      "sustainable cities(carbonfootprint<400kg co2):\n",
      "city b-350kgco2\n",
      "city d-200kgco2\n"
     ]
    }
   ],
   "source": [
    "sustainability_threshold=400\n",
    "sustainable_cities=list(filter(lambda city:city[\"carbon_footprint\"]<sustainability_threshold,climate_data))\n",
    "print(\"\\nsustainable cities(carbonfootprint<400kg co2):\")\n",
    "for city in sustainable_cities:\n",
    "    print(f\"{city['city']}-{city['carbon_footprint']}kgco2\")"
   ]
  },
  {
   "cell_type": "code",
   "execution_count": 19,
   "metadata": {},
   "outputs": [
    {
     "name": "stdout",
     "output_type": "stream",
     "text": [
      "\n",
      "city with the highest carbon footprint:\n",
      "city c-600kg co2\n"
     ]
    }
   ],
   "source": [
    "highest_footprint_city=max(climate_data,key=lambda city:city[\"carbon_footprint\"])\n",
    "print(f\"\\ncity with the highest carbon footprint:\")\n",
    "print(f\"{highest_footprint_city['city']}-{highest_footprint_city['carbon_footprint']}kg co2\")"
   ]
  },
  {
   "cell_type": "code",
   "execution_count": null,
   "metadata": {},
   "outputs": [],
   "source": []
  }
 ],
 "metadata": {
  "kernelspec": {
   "display_name": "Python 3",
   "language": "python",
   "name": "python3"
  },
  "language_info": {
   "codemirror_mode": {
    "name": "ipython",
    "version": 3
   },
   "file_extension": ".py",
   "mimetype": "text/x-python",
   "name": "python",
   "nbconvert_exporter": "python",
   "pygments_lexer": "ipython3",
   "version": "3.7.3"
  }
 },
 "nbformat": 4,
 "nbformat_minor": 2
}
