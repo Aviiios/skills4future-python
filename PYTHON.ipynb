{
 "cells": [
  {
   "cell_type": "code",
   "execution_count": 5,
   "metadata": {},
   "outputs": [
    {
     "name": "stdout",
     "output_type": "stream",
     "text": [
      "city name:city A\n"
     ]
    }
   ],
   "source": [
    "city_name=\"city A\"\n",
    "print(f\"city name:{city_name}\")"
   ]
  },
  {
   "cell_type": "code",
   "execution_count": 9,
   "metadata": {},
   "outputs": [
    {
     "name": "stdout",
     "output_type": "stream",
     "text": [
      "temperature:25°c\n"
     ]
    }
   ],
   "source": [
    "temperature=\"25°\"\n",
    "print(f\"temperature:{temperature}c\")\n"
   ]
  },
  {
   "cell_type": "code",
   "execution_count": 10,
   "metadata": {},
   "outputs": [
    {
     "name": "stdout",
     "output_type": "stream",
     "text": [
      "carbon footprint:500.75kg co2\n"
     ]
    }
   ],
   "source": [
    "carbon_footprint=500.75 #kg co2\n",
    "print(f\"carbon footprint:{carbon_footprint}kg co2\")\n"
   ]
  },
  {
   "cell_type": "code",
   "execution_count": 12,
   "metadata": {},
   "outputs": [
    {
     "name": "stdout",
     "output_type": "stream",
     "text": [
      "is the city sustainable?False\n"
     ]
    }
   ],
   "source": [
    "is_sustainable = carbon_footprint<400\n",
    "print(f\"is the city sustainable?{is_sustainable}\")"
   ]
  },
  {
   "cell_type": "code",
   "execution_count": 13,
   "metadata": {},
   "outputs": [
    {
     "name": "stdout",
     "output_type": "stream",
     "text": [
      "weekly temperatures:[25, 27, 28, 26, 24, 30, 29]\n"
     ]
    }
   ],
   "source": [
    "weekly_temperatures=[25,27,28,26,24,30,29]\n",
    "print(f\"weekly temperatures:{weekly_temperatures}\")"
   ]
  },
  {
   "cell_type": "code",
   "execution_count": 14,
   "metadata": {},
   "outputs": [
    {
     "data": {
      "text/plain": [
       "28"
      ]
     },
     "execution_count": 14,
     "metadata": {},
     "output_type": "execute_result"
    }
   ],
   "source": [
    "weekly_temperatures[2]\n"
   ]
  },
  {
   "cell_type": "code",
   "execution_count": 15,
   "metadata": {},
   "outputs": [
    {
     "name": "stdout",
     "output_type": "stream",
     "text": [
      "city data:{'name': 'city A', 'temperature': '25', 'carbon_footprint': '500.75', 'is_sustainable': 'false'}\n"
     ]
    }
   ],
   "source": [
    "city_data={\n",
    "    \"name\":\"city A\",\n",
    "    \"temperature\":\"25\",\n",
    "    \"carbon_footprint\":\"500.75\",\n",
    "    \"is_sustainable\":\"false\"\n",
    "}\n",
    "print(f\"city data:{city_data}\")\n"
   ]
  },
  {
   "cell_type": "code",
   "execution_count": 16,
   "metadata": {},
   "outputs": [
    {
     "ename": "SyntaxError",
     "evalue": "EOL while scanning string literal (<ipython-input-16-b0a28d7a0e04>, line 2)",
     "output_type": "error",
     "traceback": [
      "\u001b[1;36m  File \u001b[1;32m\"<ipython-input-16-b0a28d7a0e04>\"\u001b[1;36m, line \u001b[1;32m2\u001b[0m\n\u001b[1;33m    printf(f\"city Name:{city_name},temperature:{temperature}°c,carbon footprint:\u001b[0m\n\u001b[1;37m                                                                                ^\u001b[0m\n\u001b[1;31mSyntaxError\u001b[0m\u001b[1;31m:\u001b[0m EOL while scanning string literal\n"
     ]
    }
   ],
   "source": [
    "city_name,temperature,carbon_footprint=\"city B\",30,350.50\n",
    "printf(f\"city Name:{city_name},temperature:{temperature}°c,carbon footprint:"
   ]
  },
  {
   "cell_type": "code",
   "execution_count": 17,
   "metadata": {},
   "outputs": [
    {
     "ename": "SyntaxError",
     "evalue": "EOL while scanning string literal (<ipython-input-17-a55eb1857930>, line 2)",
     "output_type": "error",
     "traceback": [
      "\u001b[1;36m  File \u001b[1;32m\"<ipython-input-17-a55eb1857930>\"\u001b[1;36m, line \u001b[1;32m2\u001b[0m\n\u001b[1;33m    print(f\"city Name:{city_name},temperature:{temperature}°c,carbon footprint:\u001b[0m\n\u001b[1;37m                                                                               ^\u001b[0m\n\u001b[1;31mSyntaxError\u001b[0m\u001b[1;31m:\u001b[0m EOL while scanning string literal\n"
     ]
    }
   ],
   "source": [
    "city_name,temperature,carbon_footprint=\"city B\",30,350.50\n",
    "print(f\"city Name:{city_name},temperature:{temperature}°c,carbon footprint:"
   ]
  },
  {
   "cell_type": "code",
   "execution_count": 18,
   "metadata": {},
   "outputs": [
    {
     "ename": "SyntaxError",
     "evalue": "unexpected EOF while parsing (<ipython-input-18-97c7967d66b6>, line 2)",
     "output_type": "error",
     "traceback": [
      "\u001b[1;36m  File \u001b[1;32m\"<ipython-input-18-97c7967d66b6>\"\u001b[1;36m, line \u001b[1;32m2\u001b[0m\n\u001b[1;33m    print(f\"city Name:{city_name},temperature:{temperature}°c,carbon footprint:\"\u001b[0m\n\u001b[1;37m                                                                                ^\u001b[0m\n\u001b[1;31mSyntaxError\u001b[0m\u001b[1;31m:\u001b[0m unexpected EOF while parsing\n"
     ]
    }
   ],
   "source": [
    "city_name,temperature,carbon_footprint=\"city B\",30,350.50\n",
    "print(f\"city Name:{city_name},temperature:{temperature}°c,carbon footprint:\")"
   ]
  },
  {
   "cell_type": "code",
   "execution_count": 19,
   "metadata": {},
   "outputs": [
    {
     "name": "stdout",
     "output_type": "stream",
     "text": [
      "city Name:city B,temperature:30°c,carbon footprint:\n"
     ]
    }
   ],
   "source": [
    "city_name,temperature,carbon_footprint=\"city B\",30,350.50\n",
    "print(f\"city Name:{city_name},temperature:{temperature}°c,carbon footprint:{carbon_footprint}\")"
   ]
  },
  {
   "cell_type": "code",
   "execution_count": 20,
   "metadata": {},
   "outputs": [
    {
     "name": "stdout",
     "output_type": "stream",
     "text": [
      "city Name:city B,temperature:30°c,carbon footprint:350.5\n"
     ]
    }
   ],
   "source": [
    "city_name,temperature,carbon_footprint=\"city B\",30,350.50\n",
    "print(f\"city Name:{city_name},temperature:{temperature}°c,carbon footprint:{carbon_footprint}\")"
   ]
  },
  {
   "cell_type": "code",
   "execution_count": null,
   "metadata": {},
   "outputs": [],
   "source": [
    "    "
   ]
  }
 ],
 "metadata": {
  "kernelspec": {
   "display_name": "Python 3",
   "language": "python",
   "name": "python3"
  },
  "language_info": {
   "codemirror_mode": {
    "name": "ipython",
    "version": 3
   },
   "file_extension": ".py",
   "mimetype": "text/x-python",
   "name": "python",
   "nbconvert_exporter": "python",
   "pygments_lexer": "ipython3",
   "version": "3.7.3"
  }
 },
 "nbformat": 4,
 "nbformat_minor": 2
}
